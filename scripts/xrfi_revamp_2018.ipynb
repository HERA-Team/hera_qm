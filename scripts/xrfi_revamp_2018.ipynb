{
 "cells": [
  {
   "cell_type": "markdown",
   "metadata": {},
   "source": [
    "# The Great XRFI Revamp of 2018\n",
    "### Adam Beardsley\n",
    "\n"
   ]
  },
  {
   "cell_type": "code",
   "execution_count": 1,
   "metadata": {
    "ExecuteTime": {
     "end_time": "2018-09-04T22:10:34.490598Z",
     "start_time": "2018-09-04T22:10:31.407213Z"
    }
   },
   "outputs": [],
   "source": [
    "%matplotlib notebook\n",
    "import numpy as np\n",
    "from hera_qm import UVFlag\n",
    "from hera_qm import xrfi\n",
    "from pyuvdata import UVData\n",
    "from pyuvdata import UVCal\n",
    "import matplotlib.pyplot as plt\n",
    "import os\n",
    "from hera_qm.data import DATA_PATH\n",
    "import hera_qm.utils as qm_utils\n",
    "import copy\n",
    "from matplotlib.colors import SymLogNorm"
   ]
  },
  {
   "cell_type": "code",
   "execution_count": 2,
   "metadata": {
    "ExecuteTime": {
     "end_time": "2018-09-04T22:10:34.499430Z",
     "start_time": "2018-09-04T22:10:34.493942Z"
    }
   },
   "outputs": [],
   "source": [
    "# Useful paths - these are on enterprise.sese.asu.edu. Point to your favorite data.\n",
    "data_file = '/data6/HERA/data/2458042/zen.2458042.12552.xx.HH.uv/'\n",
    "data_file2 = '/data6/HERA/data/2458042/zen.2458042.13298.xx.HH.uv/'\n",
    "test_outfile = '/home/beards/code/python/hera_qm/hera_qm/data/test_output/test_flags.h5'"
   ]
  },
  {
   "cell_type": "markdown",
   "metadata": {},
   "source": [
    "Read in a couple data files to work with. We flag one antenna just to show we can."
   ]
  },
  {
   "cell_type": "code",
   "execution_count": 18,
   "metadata": {
    "ExecuteTime": {
     "end_time": "2018-09-04T22:39:37.184248Z",
     "start_time": "2018-09-04T22:39:33.694206Z"
    }
   },
   "outputs": [],
   "source": [
    "uvd = UVData()\n",
    "uvd2 = UVData()\n",
    "# Downselect data for speed\n",
    "uvd.read_miriad(data_file, antenna_nums=[0, 1, 11, 14, 25, 38, 70, 84, 141])\n",
    "uvd2.read_miriad(data_file2, antenna_nums=[0, 1, 11, 14, 25, 38, 70, 84, 141])\n",
    "# Flag one antenna for fun\n",
    "xrfi.flag_xants(uvd, [0])"
   ]
  },
  {
   "cell_type": "markdown",
   "metadata": {},
   "source": [
    "## The `UVFlag` object\n",
    "The `UVFlag` object is intended to hold flags or statistics used to make flagging decisions. It also carries with it useful information about the associated data and a number of convenient functions. Below is a brief summary."
   ]
  },
  {
   "cell_type": "markdown",
   "metadata": {},
   "source": [
    "### Attributes\n",
    "- **`mode`**: `'flag'` or `'metric'`. This determines whether the UVFlag object carries flags or significance metrics used to determine flags.<br>\n",
    "- **`flag_array`**: (if `mode=='flag'`) - boolean array of flags. Shape matches data array of a UVData object, the gain array of a UVCal object, or is (time, freq, pol) if type is a waterfall (see `type` below). \n",
    "- **`metric_array`**: (if `mode=='metric'`) - float array of significance metric. Shape matches data array of a UVData object, the gain array of a UVCal object, or is (time, freq, pol) if type is a waterfall (see `type` below). \n",
    "- **`weights_array`**: float array of weights. Shape matches data array of a UVData object, the gain array of a UVCal object, or is (time, freq, pol) if type is a waterfall (see `type` below). \n",
    "- **`type`**: `'baseline'`, `'antenna'`, or `'waterfall'`. The UVFlag object either matches a `UVData` object (`'baseline'`), a `UVCal` object (`'antenna'`), or simply has frequency, time, and polarization axes.\n",
    "- **`history`**: String containing history information\n",
    "- **`label`**: String used to label the object (e.g. 'FM')\n",
    "- **`time_array`**: Time in JD\n",
    "- **`lst_array`**: LST in radians (sorry world)\n",
    "- **`freq_array`**: Frequency array\n",
    "- **`polarization_array`**: Array of polarization. Note this is the name, even if matching a UVCal object (which uses \"jones_array\").\n",
    "- **`baseline_array`**: (if `type=='baseline'`)\n",
    "- **`ant_1_array`**: (if `type=='baseline'`)\n",
    "- **`ant_2_array`**: (if `type=='baseline'`)\n",
    "- **`antenna_array`**: (if `type=='antenna'`)\n",
    "\n",
    "### Methods\n",
    "- **`read`**: Read an hdf5 file previously written by a UVFlag object.\n",
    "- **`write`**: Write an hdf5 file.\n",
    "- **`__eq__`**: Check equality of two UVFlag objects.\n",
    "- **`__add__`**: Concatenate two UVFlag objects along given axis. Default is time axis.\n",
    "- **`__iadd__`**: In place add.\n",
    "- **`__or__`**: Combine two UVFlag objects in mode 'flag' by OR-ing their flags.\n",
    "- **`__ior__`**: In place or\n",
    "- **`clear_unused_attributes`**: Useful when changing types.\n",
    "- **`copy`**: Copy a UVFlag object.\n",
    "- **`to_waterfall`**: Convert to waterfall type by averaging along appropriate axis.\n",
    "- **`to_baseline`**: Convert to baseline type by broadcasting along baseline axis.\n",
    "- **`to_antenna`**: Convert to antenna type by broadcasting along antenna axis.\n",
    "- **`to_flag`**: Convert to flag mode.\n",
    "- **`to_metric`**: Convert to metric mode.\n",
    "- **`antpair2ind`**: Get indices for a\n",
    "- **More to come? Let me know what you want to see.**: "
   ]
  },
  {
   "cell_type": "markdown",
   "metadata": {},
   "source": [
    "Next we create our first `UVFlag` object, based on our UVData object. We note that the flag array is successfully copied from the `uvd`."
   ]
  },
  {
   "cell_type": "code",
   "execution_count": 20,
   "metadata": {
    "ExecuteTime": {
     "end_time": "2018-09-04T22:39:42.734775Z",
     "start_time": "2018-09-04T22:39:42.715853Z"
    }
   },
   "outputs": [
    {
     "name": "stdout",
     "output_type": "stream",
     "text": [
      "True\n"
     ]
    }
   ],
   "source": [
    "# Initiate a UVFlag object to match the data\n",
    "uvf = UVFlag(uvd, mode='flag', copy_flags=True)\n",
    "print(np.array_equal(uvd.flag_array, uvf.flag_array))"
   ]
  },
  {
   "cell_type": "markdown",
   "metadata": {},
   "source": [
    "Or, we can create a flag object out of the two `UVData` objects right away. In this case I will not set `copy_flags`, and as a result the object will be in `metric` mode by default."
   ]
  },
  {
   "cell_type": "code",
   "execution_count": null,
   "metadata": {
    "ExecuteTime": {
     "end_time": "2018-07-25T17:34:28.865798Z",
     "start_time": "2018-07-25T17:34:28.802063Z"
    }
   },
   "outputs": [],
   "source": [
    "uvf = UVFlag([uvd, uvd2])\n",
    "print('uvd.data_array shape: ', uvd.data_array.shape)\n",
    "print('uvd2.data_array shape: ', uvd2.data_array.shape)\n",
    "print('uvf.metric_array shape: ', uvf.metric_array.shape)"
   ]
  },
  {
   "cell_type": "markdown",
   "metadata": {},
   "source": [
    "We can write and read the objects. The data format is hdf5, and has options for compression (default to true)."
   ]
  },
  {
   "cell_type": "code",
   "execution_count": null,
   "metadata": {
    "ExecuteTime": {
     "end_time": "2018-07-25T17:36:46.777817Z",
     "start_time": "2018-07-25T17:36:46.261642Z"
    }
   },
   "outputs": [],
   "source": [
    "uvf.write(test_outfile, clobber=True)\n",
    "uvf2 = UVFlag(test_outfile)  # Note we can initiate an object with a saved file.\n",
    "print(uvf == uvf2)"
   ]
  },
  {
   "cell_type": "markdown",
   "metadata": {},
   "source": [
    "We also have functions to convert from `baseline` to `waterfall`."
   ]
  },
  {
   "cell_type": "code",
   "execution_count": null,
   "metadata": {
    "ExecuteTime": {
     "end_time": "2018-07-25T17:36:58.730572Z",
     "start_time": "2018-07-25T17:36:58.633086Z"
    }
   },
   "outputs": [],
   "source": [
    "uvf.to_waterfall()\n",
    "print('uvf.metric_array shape: ', uvf.metric_array.shape)"
   ]
  },
  {
   "cell_type": "markdown",
   "metadata": {},
   "source": [
    "### XRFI Structure\n",
    "The xrfi module has been completely restructured to make it easier to build sophisticated pipelines and swap in/out algorithms. Functions in `xrfi` are categorized under the following:\n",
    "- Utility functions: Grab-bag for functions. Actually should probably move to `hera_qm.utils`.\n",
    " - `flag_xants`\n",
    "- Preprocessing functions: Used for building up significance metrics that will be used for flagging. Typically acts on 2D arrays. There is also a dictionary, `algorithm_dict` which points to the various functions and allows us to swap out as needed.\n",
    " - `medmin`\n",
    " - `medminfilt`\n",
    " - `detrend_deriv`\n",
    " - `detrend_medminfilt`\n",
    " - `detrend_medfilt`\n",
    "- Functions that loop over data to calculate metrics.\n",
    " - `calculate_metric`: Input UVData or UVCal object and a choice of algorithm, and this function will return a UVFlag object with given metric.\n",
    "- Flagging algorithms: Methods for interpretting the significance metrics and making decisions on what to flag. Notably, these functions are mostly agnostic to input types, and will handle things like UVData vs UVCal and waterfalls.\n",
    " - `flag`: operates on UVFlag object in mode `metric`, given thresholds\n",
    " - `watershed_flag`: Uses UVFlag in `metric` mode to grow flags around seeds given by another UVFlag object in mode `flag`\n",
    " - `_ws_flag_waterfall`: Helper function for `watershed_flag` that operates on 2D or 1D array.\n",
    " - `flag_apply`: Takes list of UVFlag objects and applies those flags to a UVData or UVCal object.\n",
    " - `xrfi_simple`: This should die.\n",
    "- Pipelines. These define the rfi strategy, connecting various pieces of the above functions.\n",
    " - `xrfi_h1c_pipe`: Example pipeline that nearly recreates what we did in H1C.\n",
    "- Wrappers. These functions handle file options, etc. Contain all the nasty stuff that used to be `xrfi_run`, but is actually significantly more simple given the above structure.\n",
    " - `xrfi_h1c_run`: Recreate `xrfi_run` from H1C in all its glory.\n",
    " - `xrfi_h1c_apply`: Recreate `xrfi_apply` from H1C in most of its glory."
   ]
  },
  {
   "cell_type": "markdown",
   "metadata": {
    "ExecuteTime": {
     "end_time": "2018-07-24T17:17:04.445069Z",
     "start_time": "2018-07-24T17:17:04.441091Z"
    }
   },
   "source": [
    "### Walking through a pipeline\n",
    "Let's take a stroll through `xrfi_h1c_pipe`."
   ]
  },
  {
   "cell_type": "code",
   "execution_count": null,
   "metadata": {
    "ExecuteTime": {
     "end_time": "2018-07-25T17:54:20.387332Z",
     "start_time": "2018-07-25T17:53:56.314668Z"
    }
   },
   "outputs": [],
   "source": [
    "# Run detrend_medfilt. Takes about 24 seconds on enterprise\n",
    "# Output is a UVFlag object in metric mode.\n",
    "uvf_m = xrfi.calculate_metric(uvd, 'detrend_medfilt', Kt=8, Kf=8)"
   ]
  },
  {
   "cell_type": "code",
   "execution_count": null,
   "metadata": {
    "ExecuteTime": {
     "end_time": "2018-07-25T17:54:52.160493Z",
     "start_time": "2018-07-25T17:54:51.343922Z"
    }
   },
   "outputs": [],
   "source": [
    "# Immediately flag per pixel based on a 6-sigma threshold.\n",
    "# This was previous done in watershed function\n",
    "uvf = xrfi.flag(uvf_m, nsig_p=6)\n",
    "# watershed -- need to give both metric and flag UVFlag objects.\n",
    "uvf = xrfi.watershed_flag(uvf_m, uvf, nsig_p=2)"
   ]
  },
  {
   "cell_type": "code",
   "execution_count": null,
   "metadata": {
    "ExecuteTime": {
     "end_time": "2018-07-25T17:55:57.635385Z",
     "start_time": "2018-07-25T17:55:57.532872Z"
    }
   },
   "outputs": [],
   "source": [
    "uvf_w = uvf.copy()\n",
    "# Convert to waterfall by averaging flags across baseline\n",
    "uvf_w.to_waterfall(method='mean')"
   ]
  },
  {
   "cell_type": "code",
   "execution_count": null,
   "metadata": {
    "ExecuteTime": {
     "end_time": "2018-07-25T17:59:23.863631Z",
     "start_time": "2018-07-25T17:59:23.850052Z"
    }
   },
   "outputs": [],
   "source": [
    "# Next we flag the waterfall based on average flags\n",
    "uvf_wf = xrfi.flag(uvf_w, nsig_p=0.2, nsig_f=0.05,\n",
    "                   nsig_t=0.5)"
   ]
  },
  {
   "cell_type": "code",
   "execution_count": null,
   "metadata": {
    "ExecuteTime": {
     "end_time": "2018-07-25T17:59:28.156232Z",
     "start_time": "2018-07-25T17:59:27.983894Z"
    }
   },
   "outputs": [],
   "source": [
    "f, ax = plt.subplots(nrows=1, ncols=2, sharex=True, sharey=True)\n",
    "ax[0].imshow(uvf_w.metric_array[:, :, 0], aspect='auto', vmin=0, vmax=1)\n",
    "ax[0].set_title('Initial flags')\n",
    "ax[1].imshow(uvf_wf.flag_array[:, :, 0], aspect='auto', vmin=0, vmax=1)\n",
    "ax[1].set_title('Flags after thresholding')"
   ]
  },
  {
   "cell_type": "markdown",
   "metadata": {},
   "source": [
    "### A proposed pipeline for H2CA... a work in progress\n",
    "* cal_xrfi(abscal gains, omnical chisq, abscal chisq) -> some set of flags\n",
    "  * use abscal gains, but only use total quality waterfalls in omnical and abscal\n",
    "  * Should get metric waterfall for abscal gains, omnical total quality, and abscal total quality\n",
    "  * Combine above to form single metric waterfall\n",
    "  * threshold, watershed -> first attempt at flag waterfall\n",
    "* Run smoothcal -> apply to full data set (including flagged data)\n",
    "* xrfi on data?\n",
    "* combine cal_xrfi + xrfi flags/metrics + \"external flags\" -> apply to calibrated data\n",
    "* Delay filter -> subtract clean components from full calibrated data set\n",
    "* xrfi -> metrics -> waterfall\n",
    "* maybe combine a bunch of metrics from all over\n",
    "* threshold, watershed, etc -> final decision on flags"
   ]
  },
  {
   "cell_type": "code",
   "execution_count": null,
   "metadata": {},
   "outputs": [],
   "source": []
  },
  {
   "cell_type": "code",
   "execution_count": null,
   "metadata": {},
   "outputs": [],
   "source": []
  }
 ],
 "metadata": {
  "kernelspec": {
   "display_name": "Python [conda env:HERA]",
   "language": "python",
   "name": "conda-env-HERA-py"
  },
  "language_info": {
   "codemirror_mode": {
    "name": "ipython",
    "version": 2
   },
   "file_extension": ".py",
   "mimetype": "text/x-python",
   "name": "python",
   "nbconvert_exporter": "python",
   "pygments_lexer": "ipython2",
   "version": "2.7.14"
  }
 },
 "nbformat": 4,
 "nbformat_minor": 2
}
