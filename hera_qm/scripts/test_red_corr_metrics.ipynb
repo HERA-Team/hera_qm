{
 "cells": [
  {
   "cell_type": "code",
   "execution_count": 51,
   "metadata": {
    "collapsed": false
   },
   "outputs": [],
   "source": [
    "%matplotlib notebook\n",
    "import numpy as np\n",
    "from hera_cal import omni, utils\n",
    "reload(utils)\n",
    "import hera_qm.ant_metrics as ant_metrics\n",
    "reload(ant_metrics)\n",
    "from hera_cal.data import DATA_PATH\n",
    "from hera_cal.redcal import get_pos_reds\n",
    "import sys\n",
    "from pyuvdata import UVData"
   ]
  },
  {
   "cell_type": "code",
   "execution_count": 52,
   "metadata": {
    "collapsed": true
   },
   "outputs": [],
   "source": [
    "def red_corr_metrics(data, pols, antpols, ants, reds, xants=[],\n",
    "                     rawMetric=False, crossPol=False):\n",
    "    \"\"\"Calculate the modified Z-Score over all redundant groups for each antenna.\n",
    "\n",
    "    Calculates the extent to which baselines involving an antenna do not correlate\n",
    "    with others they are nominmally redundant with.\n",
    "    Arguments:\n",
    "    data -- data for all polarizations in a format that can support data.get_data(i,j,pol)\n",
    "    pols -- List of visibility polarizations (e.g. ['xx','xy','yx','yy']).\n",
    "    antpols -- List of antenna polarizations (e.g. ['x', 'y'])\n",
    "    ants -- List of all antenna indices.\n",
    "    reds -- List of lists of tuples of antenna numbers that make up redundant baseline groups.\n",
    "    xants -- list of antennas in the (ant,antpol) format that should be ignored.\n",
    "    rawMetric -- return the raw power correlations instead of the modified z-score\n",
    "    crossPol -- return results only when the two visibility polarizations differ by a single flip\n",
    "\n",
    "    Returns:\n",
    "    powerRedMetric -- a dictionary indexed by (ant,antpol) of the modified z-scores of the mean\n",
    "    power correlations inside redundant baseline groups that the antenna participates in.\n",
    "    Very small numbers are probably bad antennas.\n",
    "    \"\"\"\n",
    "    # Compute power correlations and assign them to each antenna\n",
    "    autoPower = compute_median_auto_power_dict(data, pols, reds)\n",
    "    antCorrs = {(ant, antpol): 0.0 for ant in ants for antpol in antpols if\n",
    "                (ant, antpol) not in xants}\n",
    "    antCounts = deepcopy(antCorrs)\n",
    "    for pol0 in pols:\n",
    "        for pol1 in pols:\n",
    "            iscrossed_i = (pol0[0] != pol1[0])\n",
    "            iscrossed_j = (pol0[1] != pol1[1])\n",
    "            onlyOnePolCrossed = (iscrossed_i ^ iscrossed_j)\n",
    "            # This function can instead record correlations for antennas whose counterpart are pol-swapped\n",
    "            if (not crossPol and (pol0 is pol1)) or (crossPol and onlyOnePolCrossed):\n",
    "                for bls in reds:\n",
    "                    data_shape = data.get_data(bls[0][0], bls[0][1], pol0).shape\n",
    "                    data_array_shape = (len(bls), data_shape[0], data_shape[1])\n",
    "                    # correlation_array = np.zeros(corr_shape, dtype=np.complex128)\n",
    "                    data_array = np.zeros(data_array_shape, np.complex128)\n",
    "                    data_array1 = np.zeros(data_array_shape, np.complex128)\n",
    "                    antpols1, antopols2 = [], []\n",
    "                    for n, (ant0_i, ant0_j) in enumerate(bls):\n",
    "                        data_array[n] = data.get_data(ant0_i, ant0_j, pol0)\n",
    "                        data_array1[n] = data.get_data(ant0_i, ant0_j, pol1)\n",
    "                        antpols1.append((ant0_i, pol0[0]))\n",
    "                        antpols1.append((ant0_j, pol0[1]))\n",
    "                        antpols2.append((ant0_i, pol1[0]))\n",
    "                        antpols2.append((ant0_j, pol1[1]))\n",
    "                    # Take the tensor dot over the times axis, data_arry is (nbls, ntimes, nfreqs)\n",
    "                    corr_array = np.tensordot(data_array, data_array1.conj(), axes=[[0],[0]]).reshape(0,2,1,3)\n",
    "                    corr_array = np.median(corr_array, axis=(2,3))\n",
    "                    autos = np.sqrt(np.diagonal(corr_array, axis1=0, axis2=1).copy())\n",
    "                    corr_array /= autos[:, None]\n",
    "                    corr_array /= autos[None, :]\n",
    "#                         for (ant1_i, ant1_j) in bls[n + 1:]:\n",
    "#                             data1 = data.get_data(ant1_i, ant1_j, pol1)\n",
    "#                             corr = np.median(np.abs(np.mean(data0 * data1.conj(),\n",
    "#                                                             axis=0)))\n",
    "#                             corr /= np.sqrt(autoPower[ant0_i, ant0_j, pol0] *\n",
    "#                                             autoPower[ant1_i, ant1_j, pol1])\n",
    "#                             antsInvolved = [(ant0_i, pol0[0]), (ant0_j, pol0[1]),\n",
    "#                                             (ant1_i, pol1[0]), (ant1_j, pol1[1])]\n",
    "#                             if not np.any([(ant, antpol) in xants for ant, antpol\n",
    "#                                            in antsInvolved]):\n",
    "#                                 # Only record the crossed antenna if i or j is crossed\n",
    "#                                 if crossPol and iscrossed_i:\n",
    "#                                     antsInvolved = [(ant0_i, pol0[0]),\n",
    "#                                                     (ant1_i, pol1[0])]\n",
    "#                                 elif crossPol and iscrossed_j:\n",
    "#                                     antsInvolved = [(ant0_j, pol0[1]), (ant1_j, pol1[1])]\n",
    "#                                 for ant, antpol in antsInvolved:\n",
    "#                                     antCorrs[(ant, antpol)] += corr\n",
    "#                                     antCounts[(ant, antpol)] += 1\n",
    "\n",
    "    # Compute average and return\n",
    "    for key, count in antCounts.items():\n",
    "        if count > 0:\n",
    "            antCorrs[key] /= count\n",
    "        else:\n",
    "            # Was not found in reds, should not have a valid metric.\n",
    "            antCorrs[key] = np.NaN"
   ]
  },
  {
   "cell_type": "code",
   "execution_count": 53,
   "metadata": {
    "collapsed": false
   },
   "outputs": [],
   "source": [
    "verbose = True\n",
    "pols = ['xx','xy','yx','yy']\n",
    "JD = '2457757.47316'\n",
    "dataFileList = [DATA_PATH + '/zen.2457698.40355.xx.HH.uvcA',\n",
    "                DATA_PATH + '/zen.2457698.40355.yy.HH.uvcA',\n",
    "                DATA_PATH + '/zen.2457698.40355.xy.HH.uvcA',\n",
    "                DATA_PATH + '/zen.2457698.40355.yx.HH.uvcA']\n",
    "freqs = np.arange(.1,.2,.1/1024)\n",
    "sys.path.append(DATA_PATH)\n",
    "\n",
    "uvd = UVData()\n",
    "uvd.read_miriad(dataFileList[0])\n",
    "aa = utils.get_aa_from_uv(uvd)\n",
    "info = omni.aa_to_info(aa, pols=[pols[-1][0]], crosspols=[pols[-1]])\n",
    "reds = info.get_reds()\n",
    "metricsJSONFilename = JD+'.metrics.json'"
   ]
  },
  {
   "cell_type": "code",
   "execution_count": 54,
   "metadata": {
    "collapsed": true
   },
   "outputs": [],
   "source": [
    "am = ant_metrics.AntennaMetrics(dataFileList, reds, fileformat='miriad')"
   ]
  },
  {
   "cell_type": "code",
   "execution_count": 55,
   "metadata": {
    "collapsed": false
   },
   "outputs": [
    {
     "name": "stdout",
     "output_type": "stream",
     "text": [
      " "
     ]
    }
   ],
   "source": [
    "%prun red_corr = am.red_corr_metrics(rawMetric=True)"
   ]
  },
  {
   "cell_type": "code",
   "execution_count": 60,
   "metadata": {
    "collapsed": false
   },
   "outputs": [
    {
     "data": {
      "text/plain": [
       "(1, 1024)"
      ]
     },
     "execution_count": 60,
     "metadata": {},
     "output_type": "execute_result"
    }
   ],
   "source": [
    "am.data.get_data(reds[0][0][0], reds[0][0][1], 'xx').shape"
   ]
  },
  {
   "cell_type": "code",
   "execution_count": 61,
   "metadata": {
    "collapsed": false
   },
   "outputs": [
    {
     "data": {
      "text/plain": [
       "(190, 1, 1024, 4)"
      ]
     },
     "execution_count": 61,
     "metadata": {},
     "output_type": "execute_result"
    }
   ],
   "source": [
    "am.data.data_array.shape"
   ]
  },
  {
   "cell_type": "code",
   "execution_count": null,
   "metadata": {
    "collapsed": false
   },
   "outputs": [
    {
     "name": "stderr",
     "output_type": "stream",
     "text": [
      "divide by zero encountered in divide\n",
      "invalid value encountered in divide\n",
      "divide by zero encountered in divide\n",
      "invalid value encountered in divide\n"
     ]
    }
   ],
   "source": [
    "pol0='xx'\n",
    "pol1='xx'\n",
    "for bls in [reds[0]]:\n",
    "    data_shape = am.data.get_data(bls[0][0], bls[0][1], pol0).shape\n",
    "    data_array_shape = (len(bls), data_shape[0], data_shape[1])\n",
    "    # correlation_array = np.zeros(corr_shape, dtype=np.complex128)\n",
    "    data_array = np.zeros(data_array_shape, np.complex128)\n",
    "    data_array1 = np.zeros(data_array_shape, np.complex128)\n",
    "    antpols1, antpols2 = [], []\n",
    "    for n, (ant0_i, ant0_j) in enumerate(bls):\n",
    "        data_array[n] = am.data.get_data(ant0_i, ant0_j, pol0)\n",
    "        data_array1[n] = am.data.get_data(ant0_i, ant0_j, pol1)\n",
    "        antpols1.append((ant0_i, pol0[0]))\n",
    "        antpols1.append((ant0_j, pol0[1]))\n",
    "        antpols2.append((ant0_i, pol1[0]))\n",
    "        antpols2.append((ant0_j, pol1[1]))\n",
    "    corr_array = np.tensordot(data_array, data_array1.conj(), axes=[[1],[1]]).transpose([0,2,1,3])\n",
    "    corr_array = np.median(corr_array, axis=(2,3))\n",
    "    autos = np.sqrt(np.diagonal(corr_array, axis1=0, axis2=1).copy())\n",
    "    corr_array /= autos[:, None]\n",
    "    corr_array /= autos[None, :]"
   ]
  },
  {
   "cell_type": "code",
   "execution_count": 89,
   "metadata": {
    "collapsed": false
   },
   "outputs": [
    {
     "data": {
      "text/plain": [
       "(9, 1, 1024)"
      ]
     },
     "execution_count": 89,
     "metadata": {},
     "output_type": "execute_result"
    }
   ],
   "source": [
    "c"
   ]
  },
  {
   "cell_type": "code",
   "execution_count": null,
   "metadata": {
    "collapsed": true
   },
   "outputs": [],
   "source": []
  }
 ],
 "metadata": {
  "kernelspec": {
   "display_name": "Python [conda env:HERA]",
   "language": "python",
   "name": "conda-env-HERA-py"
  },
  "language_info": {
   "codemirror_mode": {
    "name": "ipython",
    "version": 2
   },
   "file_extension": ".py",
   "mimetype": "text/x-python",
   "name": "python",
   "nbconvert_exporter": "python",
   "pygments_lexer": "ipython2",
   "version": "2.7.13"
  }
 },
 "nbformat": 4,
 "nbformat_minor": 2
}
